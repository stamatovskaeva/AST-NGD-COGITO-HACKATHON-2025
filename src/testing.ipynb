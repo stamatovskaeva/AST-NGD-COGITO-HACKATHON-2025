{
 "cells": [
  {
   "cell_type": "code",
   "execution_count": 14,
   "metadata": {},
   "outputs": [],
   "source": [
    "import os\n",
    "import json\n",
    "from PIL import Image"
   ]
  },
  {
   "cell_type": "code",
   "execution_count": 15,
   "metadata": {},
   "outputs": [],
   "source": [
    "# === CONFIGURATION ===\n",
    "NUM_FOLDERS = 26     # Number of folders to process\n",
    "NUM_FILES_PER_FOLDER = 10000  # Number of _bb.png/.txt pairs per folder to process"
   ]
  },
  {
   "cell_type": "code",
   "execution_count": 16,
   "metadata": {},
   "outputs": [],
   "source": [
    "# === PATHS ===\n",
    "DATASET_PATH = 'dataset/NGD_HACK'\n",
    "OUTPUT_PATH = 'out_data/'"
   ]
  },
  {
   "cell_type": "code",
   "execution_count": 17,
   "metadata": {},
   "outputs": [],
   "source": [
    "def crop_and_save_bounding_boxes(dataset_path='data/', output_path='out_data/', \n",
    "                                 num_folders=None, num_files_per_folder=None):\n",
    "\n",
    "    os.makedirs(output_path, exist_ok=True)\n",
    "\n",
    "    all_items = os.listdir(dataset_path)\n",
    "    folders = [f for f in sorted(all_items) if os.path.isdir(os.path.join(dataset_path, f))]\n",
    "\n",
    "    # Limit folders if specified\n",
    "    if num_folders is not None:\n",
    "        folders = folders[:num_folders]\n",
    "\n",
    "    for folder in folders:\n",
    "        folder_path = os.path.join(dataset_path, folder)\n",
    "        output_folder_path = os.path.join(output_path, folder)\n",
    "        os.makedirs(output_folder_path, exist_ok=True)\n",
    "\n",
    "        files = sorted(os.listdir(folder_path))\n",
    "        bb_files = [f for f in files if f.endswith('_bb.png')]\n",
    "\n",
    "        # Limit number of files if specified\n",
    "        if num_files_per_folder is not None:\n",
    "            bb_files = bb_files[:num_files_per_folder]\n",
    "\n",
    "        for bb_file in bb_files:\n",
    "            base_name = bb_file.replace('_bb.png', '')\n",
    "            txt_file = f\"{base_name}.txt\"\n",
    "            txt_path = os.path.join(folder_path, txt_file)\n",
    "            image_path = os.path.join(folder_path, bb_file)\n",
    "\n",
    "            if os.path.exists(txt_path):\n",
    "                with open(txt_path, 'r') as f:\n",
    "                    data = json.load(f)\n",
    "\n",
    "                bbox = data['label'][0]\n",
    "                img = Image.open(image_path)\n",
    "                width, height = img.size\n",
    "\n",
    "                # Convert normalized coords to absolute\n",
    "                left = int(bbox['topX'] * width) + 2\n",
    "                top = int(bbox['topY'] * height) + 2\n",
    "                right = int(bbox['bottomX'] * width) - 1\n",
    "                bottom = int(bbox['bottomY'] * height) - 1\n",
    "                cropped_img = img.crop((left, top, right, bottom))\n",
    "\n",
    "                save_path = os.path.join(output_folder_path, f\"{base_name}_cropped.png\")\n",
    "                cropped_img.save(save_path)\n",
    "                print(f\"✅ Saved: {save_path}\")\n",
    "            else:\n",
    "                print(f\"⚠️ Missing .txt file for: {bb_file}\")\n"
   ]
  },
  {
   "cell_type": "code",
   "execution_count": 20,
   "metadata": {},
   "outputs": [
    {
     "name": "stdout",
     "output_type": "stream",
     "text": [
      "\n",
      "✅ Done. Cropped and saved 3244 images. Skipped 0.\n"
     ]
    }
   ],
   "source": [
    "import os\n",
    "from pathlib import Path\n",
    "from PIL import Image\n",
    "\n",
    "# === CONFIG ===\n",
    "original_root = Path(\"dataset/NGD_HACK\")  # Folder with all PLU folders (4011/, 4015/, etc.)\n",
    "output_root = Path(\"out_data/\")        # Folder to save cropped images\n",
    "\n",
    "# Create output root if it doesn't exist\n",
    "output_root.mkdir(parents=True, exist_ok=True)\n",
    "\n",
    "def crop_and_save_image(image_path, bbox, save_path):\n",
    "    with Image.open(image_path) as img:\n",
    "        width, height = img.size\n",
    "        left = int(bbox['topX'] * width)\n",
    "        top = int(bbox['topY'] * height)\n",
    "        right = int(bbox['bottomX'] * width)\n",
    "        bottom = int(bbox['bottomY'] * height)\n",
    "\n",
    "        # Ensure valid box\n",
    "        if left >= right or top >= bottom:\n",
    "            print(f\"⚠️ Skipping invalid bbox in {image_path.name}\")\n",
    "            return\n",
    "\n",
    "        cropped = img.crop((left, top, right, bottom))\n",
    "        cropped.save(save_path)\n",
    "\n",
    "import json\n",
    "\n",
    "def parse_bbox_file(txt_file: Path):\n",
    "    try:\n",
    "        with open(txt_file) as f:\n",
    "            data = json.load(f)\n",
    "\n",
    "        labels = data.get(\"label\", [])\n",
    "        if isinstance(labels, list) and len(labels) > 0:\n",
    "            bbox = labels[0]\n",
    "            return {\n",
    "                \"topX\": float(bbox[\"topX\"]),\n",
    "                \"topY\": float(bbox[\"topY\"]),\n",
    "                \"bottomX\": float(bbox[\"bottomX\"]),\n",
    "                \"bottomY\": float(bbox[\"bottomY\"]),\n",
    "            }\n",
    "\n",
    "        print(f\"⚠️ No label list found in {txt_file}\")\n",
    "        return None\n",
    "\n",
    "    except Exception as e:\n",
    "        print(f\"⚠️ Failed to parse {txt_file}: {e}\")\n",
    "        return None\n",
    "\n",
    "# === PROCESS ===\n",
    "count = 0\n",
    "skipped = 0\n",
    "\n",
    "for plu_folder in original_root.iterdir():\n",
    "    if not plu_folder.is_dir():\n",
    "        continue\n",
    "\n",
    "    for txt_file in plu_folder.glob(\"*.txt\"):\n",
    "        image_stem = txt_file.stem\n",
    "        image_file = plu_folder / f\"{image_stem}.png\"\n",
    "\n",
    "        if not image_file.exists():\n",
    "            print(f\"❌ Image not found for {image_file}\")\n",
    "            skipped += 1\n",
    "            continue\n",
    "\n",
    "        bbox = parse_bbox_file(txt_file)\n",
    "        if bbox is None:\n",
    "            print(f\"❌ Invalid bbox for {txt_file}\")\n",
    "            skipped += 1\n",
    "            continue\n",
    "\n",
    "        # Output path (same subfolder)\n",
    "        output_folder = output_root / plu_folder.name\n",
    "        output_folder.mkdir(parents=True, exist_ok=True)\n",
    "\n",
    "        save_path = output_folder / f\"{image_stem}.png\"\n",
    "        crop_and_save_image(image_file, bbox, save_path)\n",
    "        count += 1\n",
    "\n",
    "print(f\"\\n✅ Done. Cropped and saved {count} images. Skipped {skipped}.\")"
   ]
  },
  {
   "cell_type": "code",
   "execution_count": 18,
   "metadata": {},
   "outputs": [
    {
     "name": "stdout",
     "output_type": "stream",
     "text": [
      "✅ Saved: out_data/4011/4011-1000_cropped.png\n",
      "✅ Saved: out_data/4015/4015-1027_cropped.png\n",
      "✅ Saved: out_data/4088/4088-1002_cropped.png\n",
      "✅ Saved: out_data/4196/4196-1010_cropped.png\n"
     ]
    }
   ],
   "source": [
    "crop_and_save_bounding_boxes(dataset_path='dataset/NGD_HACK', output_path='out_data/', \n",
    "                                 num_folders=4, num_files_per_folder=1)"
   ]
  },
  {
   "cell_type": "code",
   "execution_count": null,
   "metadata": {},
   "outputs": [],
   "source": []
  }
 ],
 "metadata": {
  "kernelspec": {
   "display_name": "hackathon",
   "language": "python",
   "name": "python3"
  },
  "language_info": {
   "codemirror_mode": {
    "name": "ipython",
    "version": 3
   },
   "file_extension": ".py",
   "mimetype": "text/x-python",
   "name": "python",
   "nbconvert_exporter": "python",
   "pygments_lexer": "ipython3",
   "version": "3.13.2"
  }
 },
 "nbformat": 4,
 "nbformat_minor": 2
}
