{
 "cells": [
  {
   "cell_type": "code",
   "execution_count": 14,
   "metadata": {},
   "outputs": [],
   "source": [
    "import os\n",
    "import json\n",
    "from PIL import Image"
   ]
  },
  {
   "cell_type": "code",
   "execution_count": 15,
   "metadata": {},
   "outputs": [],
   "source": [
    "# === CONFIGURATION ===\n",
    "NUM_FOLDERS = 26     # Number of folders to process\n",
    "NUM_FILES_PER_FOLDER = 10000  # Number of _bb.png/.txt pairs per folder to process"
   ]
  },
  {
   "cell_type": "code",
   "execution_count": 16,
   "metadata": {},
   "outputs": [],
   "source": [
    "# === PATHS ===\n",
    "DATASET_PATH = 'dataset/NGD_HACK'\n",
    "OUTPUT_PATH = 'out_data/'"
   ]
  },
  {
   "cell_type": "code",
   "execution_count": 17,
   "metadata": {},
   "outputs": [],
   "source": [
    "def crop_and_save_bounding_boxes(dataset_path='data/', output_path='out_data/', \n",
    "                                 num_folders=None, num_files_per_folder=None):\n",
    "\n",
    "    os.makedirs(output_path, exist_ok=True)\n",
    "\n",
    "    all_items = os.listdir(dataset_path)\n",
    "    folders = [f for f in sorted(all_items) if os.path.isdir(os.path.join(dataset_path, f))]\n",
    "\n",
    "    # Limit folders if specified\n",
    "    if num_folders is not None:\n",
    "        folders = folders[:num_folders]\n",
    "\n",
    "    for folder in folders:\n",
    "        folder_path = os.path.join(dataset_path, folder)\n",
    "        output_folder_path = os.path.join(output_path, folder)\n",
    "        os.makedirs(output_folder_path, exist_ok=True)\n",
    "\n",
    "        files = sorted(os.listdir(folder_path))\n",
    "        bb_files = [f for f in files if f.endswith('_bb.png')]\n",
    "\n",
    "        # Limit number of files if specified\n",
    "        if num_files_per_folder is not None:\n",
    "            bb_files = bb_files[:num_files_per_folder]\n",
    "\n",
    "        for bb_file in bb_files:\n",
    "            base_name = bb_file.replace('_bb.png', '')\n",
    "            txt_file = f\"{base_name}.txt\"\n",
    "            txt_path = os.path.join(folder_path, txt_file)\n",
    "            image_path = os.path.join(folder_path, bb_file)\n",
    "\n",
    "            if os.path.exists(txt_path):\n",
    "                with open(txt_path, 'r') as f:\n",
    "                    data = json.load(f)\n",
    "\n",
    "                bbox = data['label'][0]\n",
    "                img = Image.open(image_path)\n",
    "                width, height = img.size\n",
    "\n",
    "                # Convert normalized coords to absolute\n",
    "                left = int(bbox['topX'] * width) + 2\n",
    "                top = int(bbox['topY'] * height) + 2\n",
    "                right = int(bbox['bottomX'] * width) - 1\n",
    "                bottom = int(bbox['bottomY'] * height) - 1\n",
    "                cropped_img = img.crop((left, top, right, bottom))\n",
    "\n",
    "                save_path = os.path.join(output_folder_path, f\"{base_name}_cropped.png\")\n",
    "                cropped_img.save(save_path)\n",
    "                print(f\"✅ Saved: {save_path}\")\n",
    "            else:\n",
    "                print(f\"⚠️ Missing .txt file for: {bb_file}\")\n"
   ]
  },
  {
   "cell_type": "code",
   "execution_count": 18,
   "metadata": {},
   "outputs": [
    {
     "name": "stdout",
     "output_type": "stream",
     "text": [
      "✅ Saved: out_data/4011/4011-1000_cropped.png\n",
      "✅ Saved: out_data/4015/4015-1027_cropped.png\n",
      "✅ Saved: out_data/4088/4088-1002_cropped.png\n",
      "✅ Saved: out_data/4196/4196-1010_cropped.png\n"
     ]
    }
   ],
   "source": [
    "crop_and_save_bounding_boxes(dataset_path='dataset/NGD_HACK', output_path='out_data/', \n",
    "                                 num_folders=4, num_files_per_folder=1)"
   ]
  },
  {
   "cell_type": "code",
   "execution_count": null,
   "metadata": {},
   "outputs": [],
   "source": []
  }
 ],
 "metadata": {
  "kernelspec": {
   "display_name": "hackathon",
   "language": "python",
   "name": "python3"
  },
  "language_info": {
   "codemirror_mode": {
    "name": "ipython",
    "version": 3
   },
   "file_extension": ".py",
   "mimetype": "text/x-python",
   "name": "python",
   "nbconvert_exporter": "python",
   "pygments_lexer": "ipython3",
   "version": "3.13.2"
  }
 },
 "nbformat": 4,
 "nbformat_minor": 2
}
