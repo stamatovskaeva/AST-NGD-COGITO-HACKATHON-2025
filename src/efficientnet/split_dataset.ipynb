{
 "cells": [
  {
   "cell_type": "code",
   "execution_count": 2,
   "metadata": {},
   "outputs": [
    {
     "name": "stdout",
     "output_type": "stream",
     "text": [
      "✅ Done. Dataset has been split into 'train/' and 'val/' inside ../out_data_split.\n"
     ]
    }
   ],
   "source": [
    "import os\n",
    "import shutil\n",
    "import random\n",
    "from pathlib import Path\n",
    "\n",
    "# === Config ===\n",
    "input_root = Path(\"../../../data/out_data\")             # Your current folder with PLU subfolders\n",
    "output_root = Path(\"../../../data/out_data_split\")      # Where train/ and val/ folders will be created\n",
    "split_ratio = 0.8                             # 80% train, 20% val\n",
    "seed = 42\n",
    "\n",
    "random.seed(seed)\n",
    "\n",
    "# Optionally clear old output\n",
    "if output_root.exists():\n",
    "    shutil.rmtree(output_root)\n",
    "output_root.mkdir(parents=True, exist_ok=True)\n",
    "\n",
    "# Loop through each PLU folder\n",
    "for class_folder in input_root.iterdir():\n",
    "    if not class_folder.is_dir():\n",
    "        continue\n",
    "\n",
    "    images = sorted(class_folder.glob(\"*.png\"))\n",
    "    random.shuffle(images)\n",
    "\n",
    "    split_point = int(len(images) * split_ratio)\n",
    "    train_images = images[:split_point]\n",
    "    val_images = images[split_point:]\n",
    "\n",
    "    for mode, image_list in [(\"train\", train_images), (\"val\", val_images)]:\n",
    "        output_class_dir = output_root / mode / class_folder.name\n",
    "        output_class_dir.mkdir(parents=True, exist_ok=True)\n",
    "\n",
    "        for image_path in image_list:\n",
    "            dest_path = output_class_dir / image_path.name\n",
    "            shutil.copy2(image_path, dest_path)\n",
    "\n",
    "print(\"✅ Done. Dataset has been split into 'train/' and 'val/' inside ../out_data_split.\")"
   ]
  },
  {
   "cell_type": "code",
   "execution_count": null,
   "metadata": {},
   "outputs": [
    {
     "name": "stdout",
     "output_type": "stream",
     "text": [
      "\n",
      "✅ Done. Cropped and saved 3244 images. Skipped 0.\n"
     ]
    }
   ],
   "source": []
  },
  {
   "cell_type": "code",
   "execution_count": 4,
   "metadata": {},
   "outputs": [
    {
     "name": "stdout",
     "output_type": "stream",
     "text": [
      "❌ Found 1 duplicates between train and val:\n",
      " - 4011/4011-1419.png\n"
     ]
    }
   ],
   "source": [
    "# ✅ Sanity check: ensure no file appears in both train and val\n",
    "\n",
    "train_dir = output_root / \"train\"\n",
    "val_dir = output_root / \"val\"\n",
    "\n",
    "train_files = set()\n",
    "val_files = set()\n",
    "\n",
    "# Collect file identifiers (PLU + filename)\n",
    "for class_folder in train_dir.iterdir():\n",
    "    for img in class_folder.glob(\"*.png\"):\n",
    "        train_files.add(f\"{class_folder.name}/{img.name}\")\n",
    "\n",
    "for class_folder in val_dir.iterdir():\n",
    "    for img in class_folder.glob(\"*.png\"):\n",
    "        val_files.add(f\"{class_folder.name}/{img.name}\")\n",
    "\n",
    "# Find duplicates\n",
    "duplicates = train_files.intersection(val_files)\n",
    "\n",
    "if duplicates:\n",
    "    print(f\"❌ Found {len(duplicates)} duplicates between train and val:\")\n",
    "    for dup in list(duplicates)[:10]:  # Show first 10 duplicates\n",
    "        print(\" -\", dup)\n",
    "else:\n",
    "    print(\"✅ No duplicates found between train and val sets.\")"
   ]
  }
 ],
 "metadata": {
  "kernelspec": {
   "display_name": "Python 3",
   "language": "python",
   "name": "python3"
  },
  "language_info": {
   "codemirror_mode": {
    "name": "ipython",
    "version": 3
   },
   "file_extension": ".py",
   "mimetype": "text/x-python",
   "name": "python",
   "nbconvert_exporter": "python",
   "pygments_lexer": "ipython3",
   "version": "3.13.2"
  }
 },
 "nbformat": 4,
 "nbformat_minor": 2
}
