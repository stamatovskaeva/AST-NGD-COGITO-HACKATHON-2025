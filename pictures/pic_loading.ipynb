{
 "cells": [
  {
   "cell_type": "code",
   "execution_count": null,
   "metadata": {},
   "outputs": [],
   "source": [
    "import json\n",
    "import sys\n",
    "import os\n",
    "\n",
    "image_filename = [\n",
    "    '4011',\n",
    "    '4015',\n",
    "    '4088',\n",
    "    '4196',\n",
    "    '94011',\n",
    "    '90433917',\n",
    "    '90433924',\n",
    "    '7020097009819',\n",
    "    '7020097026113',\n",
    "    '7023026089401',\n",
    "    '7035620058776',\n",
    "    '7037203626563',\n",
    "    '7037206100022',\n",
    "    '7038010009457',\n",
    "    '7038010013966',\n",
    "    '7038010021145',\n",
    "    '7038010054488',\n",
    "    '7038010068980',\n",
    "    '7039610000318',\n",
    "    '7040513000022',\n",
    "    '7040513001753',\n",
    "    '7040913336684',\n",
    "    '7044610874661',\n",
    "    '7048840205868',\n",
    "    '7071688004713',\n",
    "    '7622210410337'\n",
    "]\n",
    "image_folder = os.path.dirname(image_paths)\n",
    "full_image_path = os.path.join(image_folder, image_filename)\n",
    "\n",
    "with open(full_image_path, 'r') as f:\n",
    "    data = json.load(f)\n",
    "\n",
    "image_path = data['image']\n",
    "label_info = data['label'][0]\n",
    "\n",
    "# These are normalized coordinates (0.0 to 1.0)\n",
    "topX = label_info['topX']\n",
    "topY = label_info['topY']\n",
    "bottomX = label_info['bottomX']\n",
    "bottomY = label_info['bottomY']"
   ]
  },
  {
   "cell_type": "code",
   "execution_count": 2,
   "metadata": {},
   "outputs": [
    {
     "name": "stdout",
     "output_type": "stream",
     "text": [
      "Intel MKL WARNING: Support of Intel(R) Streaming SIMD Extensions 4.2 (Intel(R) SSE4.2) enabled only processors has been deprecated. Intel oneAPI Math Kernel Library 2025.0 will require Intel(R) Advanced Vector Extensions (Intel(R) AVX) instructions.\n",
      "Intel MKL WARNING: Support of Intel(R) Streaming SIMD Extensions 4.2 (Intel(R) SSE4.2) enabled only processors has been deprecated. Intel oneAPI Math Kernel Library 2025.0 will require Intel(R) Advanced Vector Extensions (Intel(R) AVX) instructions.\n"
     ]
    }
   ],
   "source": [
    "from PIL import Image\n",
    "import os\n",
    "\n",
    "# This is the image filename from the JSON\n",
    "image_filename = data['image']\n",
    "\n",
    "# Assuming image is in the same folder as the .txt file\n",
    "image_folder = os.path.dirname(image_paths)\n",
    "full_image_path = os.path.join(image_folder, image_filename)\n",
    "\n",
    "# Now open the actual image file\n",
    "image = Image.open(full_image_path)\n",
    "width, height = image.size\n",
    "\n",
    "# Convert normalized coordinates to pixel values\n",
    "left = int(topX * width)\n",
    "top = int(topY * height)\n",
    "right = int(bottomX * width)\n",
    "bottom = int(bottomY * height)\n",
    "\n",
    "# Crop the region of interest\n",
    "roi = image.crop((left, top, right, bottom))\n",
    "roi.show()\n"
   ]
  }
 ],
 "metadata": {
  "kernelspec": {
   "display_name": "new_env",
   "language": "python",
   "name": "python3"
  },
  "language_info": {
   "codemirror_mode": {
    "name": "ipython",
    "version": 3
   },
   "file_extension": ".py",
   "mimetype": "text/x-python",
   "name": "python",
   "nbconvert_exporter": "python",
   "pygments_lexer": "ipython3",
   "version": "3.11.9"
  }
 },
 "nbformat": 4,
 "nbformat_minor": 2
}
