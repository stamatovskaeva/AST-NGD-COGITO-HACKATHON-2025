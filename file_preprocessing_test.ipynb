{
 "cells": [
  {
   "cell_type": "code",
   "execution_count": 1,
   "metadata": {},
   "outputs": [],
   "source": [
    "import os"
   ]
  },
  {
   "cell_type": "code",
   "execution_count": 6,
   "metadata": {},
   "outputs": [
    {
     "name": "stdout",
     "output_type": "stream",
     "text": [
      "Missing images per category (PLU):\n",
      "Category 4011: Missing 171 images\n",
      "Category 4015: Missing 46 images\n",
      "Category 4088: Missing 113 images\n",
      "Category 4196: Missing 51 images\n",
      "Category 7020097009819: Missing 107 images\n",
      "Category 7020097026113: Missing 227 images\n",
      "Category 7023026089401: Missing 189 images\n",
      "Category 7035620058776: Missing 262 images\n",
      "Category 7037203626563: Missing 241 images\n",
      "Category 7037206100022: Missing 126 images\n",
      "Category 7038010009457: Missing 218 images\n",
      "Category 7038010013966: Missing 127 images\n",
      "Category 7038010021145: Missing 218 images\n",
      "Category 7038010054488: Missing 168 images\n",
      "Category 7038010068980: Missing 125 images\n",
      "Category 7039610000318: Missing 172 images\n",
      "Category 7040513000022: Missing 150 images\n",
      "Category 7040513001753: Missing 233 images\n",
      "Category 7040913336684: Missing 218 images\n",
      "Category 7044610874661: Missing 0 images\n",
      "Category 7048840205868: Missing 220 images\n",
      "Category 7071688004713: Missing 237 images\n",
      "Category 7622210410337: Missing 214 images\n",
      "Category 90433917: Missing 195 images\n",
      "Category 90433924: Missing 153 images\n",
      "Category 94011: Missing 63 images\n",
      "\n",
      "Dataset balanced: False\n"
     ]
    }
   ],
   "source": [
    "import os\n",
    "from collections import defaultdict\n",
    "\n",
    "OUTPUT_PATH = 'out_data/'\n",
    "\n",
    "def check_dataset_balance(output_path=OUTPUT_PATH):\n",
    "    \"\"\"\n",
    "    Checks whether each category (identified by the filename prefix, assumed to be the PLU number)\n",
    "    in the output folder has the same number of images as the category with the highest count.\n",
    "    \n",
    "    Returns:\n",
    "        missing_dict (dict): A dictionary where keys are PLU numbers and values are the number \n",
    "                             of images missing to reach the maximum count.\n",
    "        is_balanced (bool): True if every category has the maximum count, False otherwise.\n",
    "    \"\"\"\n",
    "    # List all PNG files in the output folder\n",
    "    all_files = [f for f in os.listdir(output_path) if f.endswith('.png')]\n",
    "    \n",
    "    # Count images per category (assumes category is the first part of the filename before an underscore)\n",
    "    category_counts = defaultdict(int)\n",
    "    for filename in all_files:\n",
    "        parts = filename.split('_')\n",
    "        if parts:\n",
    "            category = parts[0]\n",
    "            category_counts[category] += 1\n",
    "    \n",
    "    if not category_counts:\n",
    "        print(\"No images found in the output folder.\")\n",
    "        return {}, True\n",
    "\n",
    "    # Find the maximum image count among categories\n",
    "    max_count = max(category_counts.values())\n",
    "    \n",
    "    # Build a dictionary of missing images per category\n",
    "    missing_dict = {}\n",
    "    is_balanced = True\n",
    "    for category, count in sorted(category_counts.items()):\n",
    "        missing = max_count - count\n",
    "        missing_dict[category] = missing\n",
    "        if missing > 0:\n",
    "            is_balanced = False\n",
    "    \n",
    "    return missing_dict, is_balanced\n",
    "\n",
    "if __name__ == '__main__':\n",
    "    missing_images, balanced = check_dataset_balance(OUTPUT_PATH)\n",
    "    print(\"Missing images per category (PLU):\")\n",
    "    for plu, missing_count in missing_images.items():\n",
    "        print(f\"Category {plu}: Missing {missing_count} images\")\n",
    "    print(\"\\nDataset balanced:\", balanced)"
   ]
  }
 ],
 "metadata": {
  "kernelspec": {
   "display_name": "new_env",
   "language": "python",
   "name": "python3"
  },
  "language_info": {
   "codemirror_mode": {
    "name": "ipython",
    "version": 3
   },
   "file_extension": ".py",
   "mimetype": "text/x-python",
   "name": "python",
   "nbconvert_exporter": "python",
   "pygments_lexer": "ipython3",
   "version": "3.11.9"
  }
 },
 "nbformat": 4,
 "nbformat_minor": 5
}
