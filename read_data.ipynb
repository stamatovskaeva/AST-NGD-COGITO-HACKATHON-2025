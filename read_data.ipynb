{
 "cells": [
  {
   "cell_type": "code",
   "execution_count": null,
   "metadata": {},
   "outputs": [],
   "source": [
    "import os\n",
    "import numpy as np\n",
    "import pandas as pd\n",
    "from PIL import Image\n",
    "import matplotlib.pyplot as plt\n",
    "from sklearn.model_selection import train_test_split\n",
    "from sklearn.preprocessing import LabelEncoder\n",
    "from tensorflow.keras.utils import to_categorical\n",
    "from tensorflow.keras.applications import EfficientNetB0\n",
    "from tensorflow.keras.models import Model\n",
    "from tensorflow.keras.layers import GlobalAveragePooling2D, Dropout, Dense\n",
    "from tensorflow.keras.optimizers import Adam\n",
    "from tensorflow.keras.callbacks import EarlyStopping\n",
    "import pickle  # For saving the label encoder"
   ]
  },
  {
   "cell_type": "code",
   "execution_count": 2,
   "metadata": {},
   "outputs": [],
   "source": [
    "data_path = 'out_data'"
   ]
  },
  {
   "cell_type": "code",
   "execution_count": 3,
   "metadata": {},
   "outputs": [],
   "source": [
    "# function to get the label from the file name\n",
    "def get_label_from_filename(filename):\n",
    "    label = filename.split('_')[0]\n",
    "    return label"
   ]
  },
  {
   "cell_type": "code",
   "execution_count": 4,
   "metadata": {},
   "outputs": [],
   "source": [
    "# load the files into a dataframe\n",
    "def load_files_to_dataframe(data_path):\n",
    "    data = []\n",
    "    for filename in os.listdir(data_path):\n",
    "        label = get_label_from_filename(filename)\n",
    "        image_path = os.path.join(data_path, filename)\n",
    "        image = Image.open(image_path)\n",
    "        data.append({'image': image, 'label': label,})\n",
    "    return pd.DataFrame(data)"
   ]
  },
  {
   "cell_type": "code",
   "execution_count": 5,
   "metadata": {},
   "outputs": [
    {
     "name": "stdout",
     "output_type": "stream",
     "text": [
      "                                                image          label\n",
      "0   <PIL.PngImagePlugin.PngImageFile image mode=RG...  7048840205868\n",
      "1   <PIL.PngImagePlugin.PngImageFile image mode=RG...  7038010013966\n",
      "2   <PIL.PngImagePlugin.PngImageFile image mode=RG...           4196\n",
      "3   <PIL.PngImagePlugin.PngImageFile image mode=RG...  7038010054488\n",
      "4   <PIL.PngImagePlugin.PngImageFile image mode=RG...  7038010068980\n",
      "5   <PIL.PngImagePlugin.PngImageFile image mode=RG...  7044610874661\n",
      "6   <PIL.PngImagePlugin.PngImageFile image mode=RG...  7023026089401\n",
      "7   <PIL.PngImagePlugin.PngImageFile image mode=RG...  7040513000022\n",
      "8   <PIL.PngImagePlugin.PngImageFile image mode=RG...  7044610874661\n",
      "9   <PIL.PngImagePlugin.PngImageFile image mode=RG...           4088\n",
      "10  <PIL.PngImagePlugin.PngImageFile image mode=RG...           4196\n",
      "11  <PIL.PngImagePlugin.PngImageFile image mode=RG...           4015\n",
      "12  <PIL.PngImagePlugin.PngImageFile image mode=RG...  7622210410337\n",
      "13  <PIL.PngImagePlugin.PngImageFile image mode=RG...  7038010068980\n",
      "14  <PIL.PngImagePlugin.PngImageFile image mode=RG...  7038010013966\n",
      "15  <PIL.PngImagePlugin.PngImageFile image mode=RG...  7037206100022\n",
      "16  <PIL.PngImagePlugin.PngImageFile image mode=RG...  7020097026113\n",
      "17  <PIL.PngImagePlugin.PngImageFile image mode=RG...  7044610874661\n",
      "18  <PIL.PngImagePlugin.PngImageFile image mode=RG...           4088\n",
      "19  <PIL.PngImagePlugin.PngImageFile image mode=RG...  7040513000022\n"
     ]
    }
   ],
   "source": [
    "df = load_files_to_dataframe(data_path)\n",
    "print(df.head(20))"
   ]
  },
  {
   "cell_type": "code",
   "execution_count": 6,
   "metadata": {},
   "outputs": [],
   "source": [
    "# split into train and test sets for X and Y \n",
    "\n",
    "X = df['image']\n",
    "y = df['label']\n",
    "X_train, X_test, y_train, y_test = train_test_split(X, y, test_size=0.2, random_state=42)"
   ]
  },
  {
   "cell_type": "markdown",
   "metadata": {},
   "source": [
    "Training"
   ]
  },
  {
   "cell_type": "code",
   "execution_count": null,
   "metadata": {},
   "outputs": [],
   "source": []
  }
 ],
 "metadata": {
  "kernelspec": {
   "display_name": "hack3.10",
   "language": "python",
   "name": "python3"
  },
  "language_info": {
   "codemirror_mode": {
    "name": "ipython",
    "version": 3
   },
   "file_extension": ".py",
   "mimetype": "text/x-python",
   "name": "python",
   "nbconvert_exporter": "python",
   "pygments_lexer": "ipython3",
   "version": "3.10.16"
  }
 },
 "nbformat": 4,
 "nbformat_minor": 2
}
