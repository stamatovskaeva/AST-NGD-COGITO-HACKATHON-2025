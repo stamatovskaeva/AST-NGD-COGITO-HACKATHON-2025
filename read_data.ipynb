{
 "cells": [
  {
   "cell_type": "code",
   "execution_count": 1,
   "metadata": {},
   "outputs": [],
   "source": [
    "import os\n",
    "import pandas as pd\n",
    "from PIL import Image\n",
    "from sklearn.model_selection import train_test_split"
   ]
  },
  {
   "cell_type": "code",
   "execution_count": 2,
   "metadata": {},
   "outputs": [],
   "source": [
    "data_path = 'out_data'"
   ]
  },
  {
   "cell_type": "code",
   "execution_count": 3,
   "metadata": {},
   "outputs": [],
   "source": [
    "# function to get the label from the file name\n",
    "def get_label_from_filename(filename):\n",
    "    label = filename.split('_')[0]\n",
    "    return label"
   ]
  },
  {
   "cell_type": "code",
   "execution_count": 4,
   "metadata": {},
   "outputs": [],
   "source": [
    "# load the files into a dataframe\n",
    "def load_files_to_dataframe(data_path):\n",
    "    data = []\n",
    "    for filename in os.listdir(data_path):\n",
    "        label = get_label_from_filename(filename)\n",
    "        image_path = os.path.join(data_path, filename)\n",
    "        image = Image.open(image_path)\n",
    "        data.append({'image': image, 'label': label,})\n",
    "    return pd.DataFrame(data)"
   ]
  },
  {
   "cell_type": "code",
   "execution_count": 5,
   "metadata": {},
   "outputs": [
    {
     "name": "stdout",
     "output_type": "stream",
     "text": [
      "                                                image              label\n",
      "0   <PIL.PngImagePlugin.PngImageFile image mode=RG...  7037206100022-229\n",
      "1   <PIL.PngImagePlugin.PngImageFile image mode=RG...          4196-1013\n",
      "2   <PIL.PngImagePlugin.PngImageFile image mode=RG...          94011-257\n",
      "3   <PIL.PngImagePlugin.PngImageFile image mode=RG...  7020097009819-358\n",
      "4   <PIL.PngImagePlugin.PngImageFile image mode=RG...   7037203626563-40\n",
      "5   <PIL.PngImagePlugin.PngImageFile image mode=RG...   7039610000318-41\n",
      "6   <PIL.PngImagePlugin.PngImageFile image mode=RG...   7038010009457-75\n",
      "7   <PIL.PngImagePlugin.PngImageFile image mode=RG...  7044610874661-381\n",
      "8   <PIL.PngImagePlugin.PngImageFile image mode=RG...           4196-226\n",
      "9   <PIL.PngImagePlugin.PngImageFile image mode=RG...         94011-1239\n",
      "10  <PIL.PngImagePlugin.PngImageFile image mode=RG...   7048840205868-71\n",
      "11  <PIL.PngImagePlugin.PngImageFile image mode=RG...   7020097009819-59\n",
      "12  <PIL.PngImagePlugin.PngImageFile image mode=RG...  7040913336684-154\n",
      "13  <PIL.PngImagePlugin.PngImageFile image mode=RG...   7622210410337-40\n",
      "14  <PIL.PngImagePlugin.PngImageFile image mode=RG...   7038010013966-87\n",
      "15  <PIL.PngImagePlugin.PngImageFile image mode=RG...  7044610874661-135\n",
      "16  <PIL.PngImagePlugin.PngImageFile image mode=RG...  7044610874661-465\n",
      "17  <PIL.PngImagePlugin.PngImageFile image mode=RG...   7038010021145-63\n",
      "18  <PIL.PngImagePlugin.PngImageFile image mode=RG...    7038010054488-3\n",
      "19  <PIL.PngImagePlugin.PngImageFile image mode=RG...       90433924-241\n"
     ]
    }
   ],
   "source": [
    "df = load_files_to_dataframe(data_path)\n",
    "print(df.head(20))"
   ]
  },
  {
   "cell_type": "code",
   "execution_count": 6,
   "metadata": {},
   "outputs": [],
   "source": [
    "# split into train and test sets for X and Y \n",
    "\n",
    "X = df['image']\n",
    "y = df['label']\n",
    "X_train, X_test, y_train, y_test = train_test_split(X, y, test_size=0.2, random_state=42)"
   ]
  }
 ],
 "metadata": {
  "kernelspec": {
   "display_name": "hack3.10",
   "language": "python",
   "name": "python3"
  },
  "language_info": {
   "codemirror_mode": {
    "name": "ipython",
    "version": 3
   },
   "file_extension": ".py",
   "mimetype": "text/x-python",
   "name": "python",
   "nbconvert_exporter": "python",
   "pygments_lexer": "ipython3",
   "version": "3.10.16"
  }
 },
 "nbformat": 4,
 "nbformat_minor": 2
}
