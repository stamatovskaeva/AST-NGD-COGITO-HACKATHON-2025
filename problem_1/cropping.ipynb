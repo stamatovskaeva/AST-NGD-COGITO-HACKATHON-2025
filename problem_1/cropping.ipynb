{
 "cells": [
  {
   "cell_type": "code",
   "execution_count": 8,
   "metadata": {},
   "outputs": [],
   "source": [
    "import os\n",
    "import json\n",
    "from PIL import Image"
   ]
  },
  {
   "cell_type": "code",
   "execution_count": 9,
   "metadata": {},
   "outputs": [],
   "source": [
    "# === CONFIGURATION ===\n",
    "NUM_FOLDERS = 5      # Number of folders to process\n",
    "NUM_FILES_PER_FOLDER = 5  # Number of _bb.png/.txt pairs per folder to process"
   ]
  },
  {
   "cell_type": "code",
   "execution_count": 10,
   "metadata": {},
   "outputs": [],
   "source": [
    "# === PATHS ===\n",
    "DATASET_PATH = 'data/'\n",
    "OUTPUT_PATH = 'cropped_data/'"
   ]
  },
  {
   "cell_type": "code",
   "execution_count": 11,
   "metadata": {},
   "outputs": [],
   "source": [
    "def crop_and_save_bounding_boxes(dataset_path=DATASET_PATH, output_path=OUTPUT_PATH, \n",
    "                                 num_folders=None, num_files_per_folder=None):\n",
    "\n",
    "    os.makedirs(output_path, exist_ok=True)\n",
    "\n",
    "    all_items = os.listdir(dataset_path)\n",
    "    folders = [f for f in sorted(all_items) if os.path.isdir(os.path.join(dataset_path, f))]\n",
    "\n",
    "    # Limit folders if specified\n",
    "    if num_folders is not None:\n",
    "        folders = folders[:num_folders]\n",
    "\n",
    "    for folder in folders:\n",
    "        folder_path = os.path.join(dataset_path, folder)\n",
    "        files = sorted(os.listdir(folder_path))\n",
    "        bb_files = [f for f in files if f.endswith('_bb.png')]\n",
    "\n",
    "        # Limit number of files if specified\n",
    "        if num_files_per_folder is not None:\n",
    "            bb_files = bb_files[:num_files_per_folder]\n",
    "\n",
    "        for bb_file in bb_files:\n",
    "            base_name = bb_file.replace('_bb.png', '')\n",
    "            txt_file = f\"{base_name}.txt\"\n",
    "            txt_path = os.path.join(folder_path, txt_file)\n",
    "            image_path = os.path.join(folder_path, bb_file)\n",
    "\n",
    "            if os.path.exists(txt_path):\n",
    "                with open(txt_path, 'r') as f:\n",
    "                    data = json.load(f)\n",
    "\n",
    "                bbox = data['label'][0]\n",
    "                img = Image.open(image_path)\n",
    "                width, height = img.size\n",
    "\n",
    "                # Convert normalized coords to absolute\n",
    "                left = int(bbox['topX'] * width) + 2\n",
    "                top = int(bbox['topY'] * height) + 2\n",
    "                right = int(bbox['bottomX'] * width) - 1\n",
    "                bottom = int(bbox['bottomY'] * height) - 1\n",
    "                cropped_img = img.crop((left, top, right, bottom))\n",
    "\n",
    "                # Save directly to the output_path with folder name prefix to avoid name clashes\n",
    "                save_name = f\"{base_name}_cropped.png\"\n",
    "                save_path = os.path.join(output_path, save_name)\n",
    "                cropped_img.save(save_path)\n",
    "                # print(f\"✅ Saved: {save_path}\")\n",
    "            else:\n",
    "                print(f\"⚠️ Missing .txt file for: {bb_file} in {folder}\")"
   ]
  },
  {
   "cell_type": "code",
   "execution_count": 12,
   "metadata": {},
   "outputs": [],
   "source": [
    "crop_and_save_bounding_boxes()"
   ]
  }
 ],
 "metadata": {
  "kernelspec": {
   "display_name": "hackathon",
   "language": "python",
   "name": "python3"
  },
  "language_info": {
   "codemirror_mode": {
    "name": "ipython",
    "version": 3
   },
   "file_extension": ".py",
   "mimetype": "text/x-python",
   "name": "python",
   "nbconvert_exporter": "python",
   "pygments_lexer": "ipython3",
   "version": "3.13.2"
  }
 },
 "nbformat": 4,
 "nbformat_minor": 2
}
