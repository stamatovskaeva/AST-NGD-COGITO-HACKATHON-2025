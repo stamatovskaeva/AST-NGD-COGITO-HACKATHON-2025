{
 "cells": [
  {
   "cell_type": "code",
   "execution_count": 1,
   "metadata": {},
   "outputs": [],
   "source": [
    "import os\n",
    "from PIL import Image\n",
    "from collections import defaultdict\n",
    "import random\n",
    "from math import ceil"
   ]
  },
  {
   "cell_type": "code",
   "execution_count": 4,
   "metadata": {},
   "outputs": [],
   "source": [
    "def count_plu_types(directory):\n",
    "    \"\"\"\n",
    "    Count how many files exist for each PLU (prefix before '-').\n",
    "    Returns:\n",
    "        - dict of {plu: list of files}\n",
    "        - max_count (the highest number of files any PLU has)\n",
    "    \"\"\"\n",
    "    files = [f for f in os.listdir(directory) if f.lower().endswith('.png')]\n",
    "    plu_to_files = defaultdict(list)\n",
    "\n",
    "    for f in files:\n",
    "        parts = f.split(\"-\", 1)\n",
    "        if len(parts) == 2:\n",
    "            plu = parts[0]\n",
    "            plu_to_files[plu].append(f)\n",
    "\n",
    "    max_count = max(len(v) for v in plu_to_files.values()) if plu_to_files else 0\n",
    "    return plu_to_files, max_count"
   ]
  },
  {
   "cell_type": "code",
   "execution_count": 6,
   "metadata": {},
   "outputs": [],
   "source": [
    "transformations = [\n",
    "        (\"rot90\", lambda img: img.rotate(90, expand=True)),\n",
    "        (\"rot180\", lambda img: img.rotate(180, expand=True)),\n",
    "        (\"flipH\", lambda img: img.transpose(Image.FLIP_LEFT_RIGHT)),\n",
    "        (\"flipV\", lambda img: img.transpose(Image.FLIP_TOP_BOTTOM)),\n",
    "        (\"flipH_rot90\", lambda img: img.transpose(Image.FLIP_LEFT_RIGHT).rotate(90, expand=True))\n",
    "    ]"
   ]
  },
  {
   "cell_type": "code",
   "execution_count": null,
   "metadata": {},
   "outputs": [],
   "source": [
    "def augment_randomly(image):\n",
    "    \"\"\"\n",
    "    Applies one random transformation to the given image.\n",
    "    \n",
    "    Returns:\n",
    "        - augmented_image (PIL.Image)\n",
    "        - augmentation_name (str)\n",
    "    \"\"\"\n",
    "\n",
    "    augmentation_name, transform_fn = random.choice(transformations)\n",
    "    return transform_fn(image), augmentation_name\n"
   ]
  },
  {
   "cell_type": "code",
   "execution_count": 8,
   "metadata": {},
   "outputs": [],
   "source": [
    "def balance_plu_to_max(directory):\n",
    "    \"\"\"\n",
    "    Balances all PLUs in the given directory so each has the same number of images\n",
    "    as the most prevalent PLU. Augments randomly to create more images.\n",
    "    \"\"\"\n",
    "    plu_to_files, max_count = count_plu_types(directory)\n",
    "\n",
    "    for plu, file_list in plu_to_files.items():\n",
    "        idx = 0\n",
    "        while (len(file_list) < max_count):\n",
    "            random_file = augment_randomly(Image.open(os.path.join(directory, file_list[idx % len(file_list)])))\n",
    "            augmented_image, augmentation_name = random_file\n",
    "            new_filename = f\"{plu}-{len(file_list)}-{augmentation_name}.png\"\n",
    "            augmented_image.save(os.path.join(directory, new_filename))\n",
    "            file_list.append(new_filename)\n",
    "            idx += 1\n",
    "    print(\"Balanced all PLUs to the maximum count of images.\")"
   ]
  },
  {
   "cell_type": "code",
   "execution_count": 9,
   "metadata": {},
   "outputs": [
    {
     "name": "stdout",
     "output_type": "stream",
     "text": [
      "Balanced all PLUs to the maximum count of images.\n",
      "Balanced all PLUs to the maximum count of images.\n"
     ]
    }
   ],
   "source": [
    "balance_plu_to_max(\"cropped_training\")\n",
    "balance_plu_to_max(\"cropped_testing\")"
   ]
  }
 ],
 "metadata": {
  "kernelspec": {
   "display_name": "hack3.10",
   "language": "python",
   "name": "python3"
  },
  "language_info": {
   "codemirror_mode": {
    "name": "ipython",
    "version": 3
   },
   "file_extension": ".py",
   "mimetype": "text/x-python",
   "name": "python",
   "nbconvert_exporter": "python",
   "pygments_lexer": "ipython3",
   "version": "3.10.16"
  }
 },
 "nbformat": 4,
 "nbformat_minor": 2
}
