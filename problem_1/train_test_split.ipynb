{
 "cells": [
  {
   "cell_type": "code",
   "execution_count": 5,
   "metadata": {},
   "outputs": [],
   "source": [
    "import os\n",
    "import shutil\n",
    "from collections import defaultdict\n",
    "import random\n",
    "from math import ceil"
   ]
  },
  {
   "cell_type": "code",
   "execution_count": 6,
   "metadata": {},
   "outputs": [],
   "source": [
    "# Set paths\n",
    "input_dir = \"cropped_data\"\n",
    "train_dir = \"cropped_training\"\n",
    "test_dir = \"cropped_testing\""
   ]
  },
  {
   "cell_type": "code",
   "execution_count": 7,
   "metadata": {},
   "outputs": [],
   "source": [
    "# Create output directories if they don't exist\n",
    "os.makedirs(train_dir, exist_ok=True)\n",
    "os.makedirs(test_dir, exist_ok=True)"
   ]
  },
  {
   "cell_type": "code",
   "execution_count": 8,
   "metadata": {},
   "outputs": [
    {
     "name": "stdout",
     "output_type": "stream",
     "text": [
      "Split complete. Files copied to 'cropped_training' and 'cropped_testing'.\n"
     ]
    }
   ],
   "source": [
    "# Group files by prefix\n",
    "file_groups = defaultdict(list)\n",
    "for filename in os.listdir(input_dir):\n",
    "    if filename.endswith(\".png\"):\n",
    "        prefix = filename.split(\"-\")[0]\n",
    "        file_groups[prefix].append(filename)\n",
    "\n",
    "# Split and copy files\n",
    "for prefix, files in file_groups.items():\n",
    "    random.shuffle(files)\n",
    "    split_idx = ceil(0.2 * len(files))\n",
    "    test_files = files[:split_idx]\n",
    "    train_files = files[split_idx:]\n",
    "\n",
    "    for f in test_files:\n",
    "        shutil.copy(os.path.join(input_dir, f), os.path.join(test_dir, f))\n",
    "\n",
    "    for f in train_files:\n",
    "        shutil.copy(os.path.join(input_dir, f), os.path.join(train_dir, f))\n",
    "\n",
    "print(\"Split complete. Files copied to 'cropped_training' and 'cropped_testing'.\")"
   ]
  }
 ],
 "metadata": {
  "kernelspec": {
   "display_name": "hack3.10",
   "language": "python",
   "name": "python3"
  },
  "language_info": {
   "codemirror_mode": {
    "name": "ipython",
    "version": 3
   },
   "file_extension": ".py",
   "mimetype": "text/x-python",
   "name": "python",
   "nbconvert_exporter": "python",
   "pygments_lexer": "ipython3",
   "version": "3.10.16"
  }
 },
 "nbformat": 4,
 "nbformat_minor": 2
}
